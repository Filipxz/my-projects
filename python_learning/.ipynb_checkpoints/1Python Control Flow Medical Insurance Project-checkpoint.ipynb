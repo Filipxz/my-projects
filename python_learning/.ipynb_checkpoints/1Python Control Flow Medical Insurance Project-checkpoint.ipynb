{
 "cells": [
  {
   "cell_type": "code",
   "execution_count": null,
   "id": "fd9e3856",
   "metadata": {},
   "outputs": [],
   "source": [
    "Python Control Flow Medical Insurance Project"
   ]
  },
  {
   "cell_type": "markdown",
   "id": "dc5582dc",
   "metadata": {},
   "source": [
    " The function estimate_insurance_cost() estimates the medical insurance cost for an individual, based on four variables:\n",
    " \n",
    " age: age of the individual in years\n",
    " sex: 0 for female, 1 if male\n",
    " num_of_children: number of children the individual has\n",
    " smoker: 0 for a non-smoker, 1 for a smoker\n",
    " These variables are used in the following formula to estimate an individual’s insurance cost:\n",
    " \n",
    " insurance_cost=400∗age\n",
    " −128∗sex+425∗num_of_children\n",
    " +10000∗smoker−2500"
   ]
  },
  {
   "cell_type": "code",
   "execution_count": 2,
   "id": "bf8a155a",
   "metadata": {},
   "outputs": [],
   "source": [
    "def estimate_insurance_cost(name, age, sex, bmi, num_of_children, smoker):\n",
    "  estimated_cost = 250*age - 128*sex + 370*bmi + 425*num_of_children + 24000*smoker - 12500\n",
    "  print(name + \"'s Estimated Insurance Cost: \" + str(estimated_cost) + \" dollars.\")\n",
    "  analyze_smoker(smoker)\n",
    "  return estimated_cost"
   ]
  },
  {
   "cell_type": "code",
   "execution_count": 4,
   "id": "ec1953ac",
   "metadata": {},
   "outputs": [],
   "source": [
    "def analyze_smoker(smoker_status):\n",
    "  if smoker_status == 1:\n",
    "    print(\"To lower your cost, you should consider quitting smoking.\")\n",
    "  else:\n",
    "    print(\"Smoking is not an issue for you.\")"
   ]
  },
  {
   "cell_type": "code",
   "execution_count": 5,
   "id": "d1ba4a78",
   "metadata": {},
   "outputs": [
    {
     "name": "stdout",
     "output_type": "stream",
     "text": [
      "FIlip's Estimated Insurance Cost: 3992 dollars.\n",
      "Smoking is not an issue for you.\n"
     ]
    },
    {
     "data": {
      "text/plain": [
       "3992"
      ]
     },
     "execution_count": 5,
     "metadata": {},
     "output_type": "execute_result"
    }
   ],
   "source": [
    "\n",
    "estimate_insurance_cost(\"FIlip\", 28, 1, 26, 0, 0)"
   ]
  },
  {
   "cell_type": "code",
   "execution_count": null,
   "id": "f4f97494",
   "metadata": {},
   "outputs": [],
   "source": []
  },
  {
   "cell_type": "code",
   "execution_count": null,
   "id": "6dccc064",
   "metadata": {},
   "outputs": [],
   "source": []
  },
  {
   "cell_type": "code",
   "execution_count": null,
   "id": "c4efac8b",
   "metadata": {},
   "outputs": [],
   "source": []
  },
  {
   "cell_type": "code",
   "execution_count": null,
   "id": "d0e48a63",
   "metadata": {},
   "outputs": [],
   "source": []
  },
  {
   "cell_type": "code",
   "execution_count": null,
   "id": "9ef5534d",
   "metadata": {},
   "outputs": [],
   "source": []
  }
 ],
 "metadata": {
  "kernelspec": {
   "display_name": "Python 3 (ipykernel)",
   "language": "python",
   "name": "python3"
  },
  "language_info": {
   "codemirror_mode": {
    "name": "ipython",
    "version": 3
   },
   "file_extension": ".py",
   "mimetype": "text/x-python",
   "name": "python",
   "nbconvert_exporter": "python",
   "pygments_lexer": "ipython3",
   "version": "3.11.5"
  }
 },
 "nbformat": 4,
 "nbformat_minor": 5
}
