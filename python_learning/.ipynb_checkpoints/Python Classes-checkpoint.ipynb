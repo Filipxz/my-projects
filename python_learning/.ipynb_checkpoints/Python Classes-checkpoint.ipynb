{
 "cells": [
  {
   "cell_type": "markdown",
   "id": "e70f2413",
   "metadata": {},
   "source": [
    "# The Power of Object-Oriented Programming"
   ]
  },
  {
   "cell_type": "markdown",
   "id": "930dbd62",
   "metadata": {},
   "source": [
    "Defining a Class in Python"
   ]
  },
  {
   "cell_type": "code",
   "execution_count": 1,
   "id": "5b5222a1",
   "metadata": {},
   "outputs": [],
   "source": [
    "class ClassName:\n",
    "    # Class body\n",
    "    pass\n"
   ]
  },
  {
   "cell_type": "markdown",
   "id": "b18c9ba6",
   "metadata": {},
   "source": [
    "example of how to define attributes and methods"
   ]
  },
  {
   "cell_type": "code",
   "execution_count": 3,
   "id": "1e44e365",
   "metadata": {},
   "outputs": [],
   "source": [
    "import math\n",
    "\n",
    "class Circle:\n",
    "    def __init__(self, radius):\n",
    "        self.radius = radius\n",
    "\n",
    "    def calculate_area(self):\n",
    "        return round(math.pi * self.radius ** 2, 2)"
   ]
  },
  {
   "cell_type": "code",
   "execution_count": 9,
   "id": "49aeb169",
   "metadata": {},
   "outputs": [],
   "source": [
    "circle_1 = Circle(100)\n",
    "circle_2 = Circle(777)"
   ]
  },
  {
   "cell_type": "code",
   "execution_count": 6,
   "id": "785a076f",
   "metadata": {},
   "outputs": [
    {
     "data": {
      "text/plain": [
       "100"
      ]
     },
     "execution_count": 6,
     "metadata": {},
     "output_type": "execute_result"
    }
   ],
   "source": [
    "circle_1.radius"
   ]
  },
  {
   "cell_type": "code",
   "execution_count": 10,
   "id": "5a7aac72",
   "metadata": {},
   "outputs": [
    {
     "data": {
      "text/plain": [
       "777"
      ]
     },
     "execution_count": 10,
     "metadata": {},
     "output_type": "execute_result"
    }
   ],
   "source": [
    "circle_2.radius"
   ]
  },
  {
   "cell_type": "code",
   "execution_count": 11,
   "id": "b4452a94",
   "metadata": {},
   "outputs": [
    {
     "data": {
      "text/plain": [
       "1896670.59"
      ]
     },
     "execution_count": 11,
     "metadata": {},
     "output_type": "execute_result"
    }
   ],
   "source": [
    "circle_1.calculate_area()\n",
    "circle_2.calculate_area()"
   ]
  },
  {
   "cell_type": "code",
   "execution_count": 12,
   "id": "4f77daa7",
   "metadata": {},
   "outputs": [],
   "source": [
    "class Car:\n",
    "    def __init__(self, make, model, year, color):\n",
    "        self.make = make\n",
    "        self.model = model\n",
    "        self.year = year\n",
    "        self.color = color\n",
    "        self.started = False\n",
    "        self.speed = 0\n",
    "        self.max_speed = 200"
   ]
  },
  {
   "cell_type": "code",
   "execution_count": 13,
   "id": "e6203fb7",
   "metadata": {},
   "outputs": [
    {
     "data": {
      "text/plain": [
       "'Toyota'"
      ]
     },
     "execution_count": 13,
     "metadata": {},
     "output_type": "execute_result"
    }
   ],
   "source": [
    ">>> toyota_camry = Car(\"Toyota\", \"Camry\", 2022, \"Red\")\n",
    ">>> toyota_camry.make"
   ]
  },
  {
   "cell_type": "code",
   "execution_count": 14,
   "id": "06fe933b",
   "metadata": {},
   "outputs": [
    {
     "data": {
      "text/plain": [
       "0"
      ]
     },
     "execution_count": 14,
     "metadata": {},
     "output_type": "execute_result"
    }
   ],
   "source": [
    "toyota_camry.speed"
   ]
  },
  {
   "cell_type": "code",
   "execution_count": 15,
   "id": "c03d64ef",
   "metadata": {},
   "outputs": [],
   "source": [
    "ford_mustang = Car(\"Ford\", \"Mustang\", 2022, \"Black\")"
   ]
  },
  {
   "cell_type": "code",
   "execution_count": 17,
   "id": "d62db1ea",
   "metadata": {},
   "outputs": [
    {
     "data": {
      "text/plain": [
       "200"
      ]
     },
     "execution_count": 17,
     "metadata": {},
     "output_type": "execute_result"
    }
   ],
   "source": [
    "ford_mustang.year\n",
    "ford_mustang.max_speed"
   ]
  }
 ],
 "metadata": {
  "kernelspec": {
   "display_name": "Python 3 (ipykernel)",
   "language": "python",
   "name": "python3"
  },
  "language_info": {
   "codemirror_mode": {
    "name": "ipython",
    "version": 3
   },
   "file_extension": ".py",
   "mimetype": "text/x-python",
   "name": "python",
   "nbconvert_exporter": "python",
   "pygments_lexer": "ipython3",
   "version": "3.11.5"
  }
 },
 "nbformat": 4,
 "nbformat_minor": 5
}
