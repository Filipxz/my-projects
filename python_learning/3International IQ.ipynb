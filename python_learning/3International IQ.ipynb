{
 "cells": [
  {
   "cell_type": "code",
   "execution_count": 72,
   "id": "adb687ef",
   "metadata": {},
   "outputs": [],
   "source": [
    "import numpy as np\n",
    "import pandas as pd\n",
    "import matplotlib.pyplot as plt"
   ]
  },
  {
   "cell_type": "code",
   "execution_count": 73,
   "id": "59d531e8",
   "metadata": {},
   "outputs": [
    {
     "data": {
      "text/html": [
       "<div>\n",
       "<style scoped>\n",
       "    .dataframe tbody tr th:only-of-type {\n",
       "        vertical-align: middle;\n",
       "    }\n",
       "\n",
       "    .dataframe tbody tr th {\n",
       "        vertical-align: top;\n",
       "    }\n",
       "\n",
       "    .dataframe thead th {\n",
       "        text-align: right;\n",
       "    }\n",
       "</style>\n",
       "<table border=\"1\" class=\"dataframe\">\n",
       "  <thead>\n",
       "    <tr style=\"text-align: right;\">\n",
       "      <th></th>\n",
       "      <th>Ranking</th>\n",
       "      <th>Country</th>\n",
       "      <th>Average IQ</th>\n",
       "      <th>Participants</th>\n",
       "    </tr>\n",
       "  </thead>\n",
       "  <tbody>\n",
       "    <tr>\n",
       "      <th>0</th>\n",
       "      <td>1</td>\n",
       "      <td>Japan</td>\n",
       "      <td>108.14</td>\n",
       "      <td>155534</td>\n",
       "    </tr>\n",
       "    <tr>\n",
       "      <th>1</th>\n",
       "      <td>2</td>\n",
       "      <td>South Korea</td>\n",
       "      <td>107.00</td>\n",
       "      <td>104316</td>\n",
       "    </tr>\n",
       "    <tr>\n",
       "      <th>2</th>\n",
       "      <td>3</td>\n",
       "      <td>China</td>\n",
       "      <td>106.59</td>\n",
       "      <td>190255</td>\n",
       "    </tr>\n",
       "    <tr>\n",
       "      <th>3</th>\n",
       "      <td>4</td>\n",
       "      <td>Iran (Islamic Republic of)</td>\n",
       "      <td>106.52</td>\n",
       "      <td>1657</td>\n",
       "    </tr>\n",
       "    <tr>\n",
       "      <th>4</th>\n",
       "      <td>5</td>\n",
       "      <td>Singapore</td>\n",
       "      <td>104.75</td>\n",
       "      <td>5975</td>\n",
       "    </tr>\n",
       "  </tbody>\n",
       "</table>\n",
       "</div>"
      ],
      "text/plain": [
       "   Ranking                     Country  Average IQ  Participants\n",
       "0        1                       Japan      108.14        155534\n",
       "1        2                 South Korea      107.00        104316\n",
       "2        3                       China      106.59        190255\n",
       "3        4  Iran (Islamic Republic of)      106.52          1657\n",
       "4        5                   Singapore      104.75          5975"
      ]
     },
     "execution_count": 73,
     "metadata": {},
     "output_type": "execute_result"
    }
   ],
   "source": [
    "# Loading the Data\n",
    "data = pd.read_csv(\"International_IQ.csv\")\n",
    "data.head()"
   ]
  },
  {
   "cell_type": "code",
   "execution_count": 74,
   "id": "c2b0e556",
   "metadata": {},
   "outputs": [
    {
     "data": {
      "text/plain": [
       "(125, 4)"
      ]
     },
     "execution_count": 74,
     "metadata": {},
     "output_type": "execute_result"
    }
   ],
   "source": [
    "data.shape"
   ]
  },
  {
   "cell_type": "code",
   "execution_count": 81,
   "id": "df0f05fb",
   "metadata": {},
   "outputs": [],
   "source": [
    "data['Country'] = data['Country'].replace({'Iran (Islamic Republic of)' : 'Iran'})"
   ]
  },
  {
   "cell_type": "code",
   "execution_count": 82,
   "id": "10918acc",
   "metadata": {},
   "outputs": [],
   "source": [
    "# Data Cleaning\n",
    "\n",
    "missing_values = data.isnull().sum()\n",
    "duplicate_rows = data.duplicated().sum()"
   ]
  },
  {
   "cell_type": "code",
   "execution_count": 83,
   "id": "ae70f531",
   "metadata": {},
   "outputs": [
    {
     "name": "stdout",
     "output_type": "stream",
     "text": [
      "Ranking         0\n",
      "Country         1\n",
      "Average IQ      0\n",
      "Participants    0\n",
      "dtype: int64\n"
     ]
    }
   ],
   "source": [
    "print(missing_values)"
   ]
  },
  {
   "cell_type": "code",
   "execution_count": 84,
   "id": "f134e8dc",
   "metadata": {},
   "outputs": [
    {
     "name": "stdout",
     "output_type": "stream",
     "text": [
      "0\n"
     ]
    }
   ],
   "source": [
    "print(duplicate_rows)"
   ]
  },
  {
   "cell_type": "code",
   "execution_count": 85,
   "id": "3d7b6235",
   "metadata": {},
   "outputs": [
    {
     "data": {
      "text/plain": [
       "Ranking         0\n",
       "Country         1\n",
       "Average IQ      0\n",
       "Participants    0\n",
       "dtype: int64"
      ]
     },
     "execution_count": 85,
     "metadata": {},
     "output_type": "execute_result"
    }
   ],
   "source": [
    "data_cleaned = data.dropna()\n",
    "missing_values"
   ]
  },
  {
   "cell_type": "code",
   "execution_count": 86,
   "id": "b617c5df",
   "metadata": {},
   "outputs": [
    {
     "data": {
      "text/plain": [
       "(124, 4)"
      ]
     },
     "execution_count": 86,
     "metadata": {},
     "output_type": "execute_result"
    }
   ],
   "source": [
    "data_cleaned.shape"
   ]
  },
  {
   "cell_type": "code",
   "execution_count": null,
   "id": "eae73972",
   "metadata": {},
   "outputs": [],
   "source": [
    "#renaming the Iran "
   ]
  },
  {
   "cell_type": "code",
   "execution_count": 87,
   "id": "7d113f82",
   "metadata": {},
   "outputs": [],
   "source": [
    "# seting the ranking position as index\n",
    "data_cleaned = data_cleaned.set_index('Ranking')"
   ]
  },
  {
   "cell_type": "code",
   "execution_count": 91,
   "id": "93ba4791",
   "metadata": {},
   "outputs": [
    {
     "name": "stdout",
     "output_type": "stream",
     "text": [
      "             Country  Average IQ  Participants\n",
      "Ranking                                       \n",
      "1              Japan      108.14        155534\n",
      "2        South Korea      107.00        104316\n",
      "3              China      106.59        190255\n",
      "4               Iran      106.52          1657\n",
      "5          Singapore      104.75          5975\n",
      "6           Mongolia      102.50          1393\n",
      "7          Australia      101.96          6574\n",
      "8           Viet Nam      101.14         10288\n",
      "9            Germany      101.06         32531\n",
      "10          Slovenia      101.05          2743\n",
      "             Country  Average IQ  Participants\n",
      "Ranking                                       \n",
      "3              China      106.59        190255\n",
      "88         Indonesia       94.04        170297\n",
      "1              Japan      108.14        155534\n",
      "2        South Korea      107.00        104316\n",
      "82           Ukraine       94.78         74246\n"
     ]
    }
   ],
   "source": [
    "# Data Analysis\n",
    "top5_iq_countires = data_cleaned.sort_values(by = 'Average IQ', ascending=False).head(10)\n",
    "top5_participant_countries = data_cleaned.sort_values(by='Participants', ascending=False).head()\n",
    "\n",
    "print(top5_iq_countires)\n",
    "print(top5_participant_countries)"
   ]
  },
  {
   "cell_type": "code",
   "execution_count": 90,
   "id": "3517f8de",
   "metadata": {},
   "outputs": [
    {
     "data": {
      "image/png": "[encoded data removed]",
      "text/plain": [
       "<Figure size 640x480 with 1 Axes>"
      ]
     },
     "metadata": {},
     "output_type": "display_data"
    }
   ],
   "source": [
    "# Step 4: Visualization 🎨\n",
    "\n",
    "# Distribution of Average IQ\n",
    "\n",
    "\n",
    "plt.bar(data_cleaned['Country'].head(10), data_cleaned['Average IQ'].head(10), width=0.8)\n",
    "plt.xlabel('Country')\n",
    "plt.ylabel('Average IQ')\n",
    "plt.title('Top 10 Countries by Average IQ')\n",
    "plt.xticks(rotation=45)\n",
    "plt.axhline(y = data_cleaned['Average IQ'].mean(), xmin = 0, xmax = 1, color = \"red\", linestyle = \"dotted\")\n",
    "plt.show()\n"
   ]
  },
  {
   "cell_type": "markdown",
   "id": "830f8151",
   "metadata": {},
   "source": [
    "## insights\n",
    "\n",
    "- High Average IQ in Asian Countries: Japan, South Korea, China, and Singapore occupy the top positions in the ranking, suggesting that these Asian countries have higher average IQ scores compared to others in the list.\n",
    "\n",
    "- Diversity in IQ Scores: The table reflects a range of average IQ scores, from 108.14 in Japan to 101.05 in Slovenia. This diversity indicates that IQ levels vary globally, and factors such as education, culture, and socio-economic conditions may contribute to these differences.\n",
    "\n",
    "- Large Participation in Asian Countries: Japan, South Korea, and China not only have high average IQ scores but also a significant number of participants in the IQ testing. This large sample size adds credibility to the reported IQ scores for these countries.\n",
    "\n",
    "- Global Representation: The list includes countries from different continents, such as Australia and Germany. This suggests that the IQ rankings are not dominated by a specific region, highlighting the global distribution of intelligence scores.\n",
    "\n",
    "- Iran's High Average IQ with Low Participation: Iran has a relatively high average IQ (106.52), but the number of participants is much lower compared to other top-ranking countries. The accuracy of the average IQ for Iran might be influenced by the smaller sample size.\n",
    "\n",
    "- European Representation: Germany and Slovenia represent Europe in the top 10, showing a diverse representation of countries from different continents."
   ]
  }
 ],
 "metadata": {
  "kernelspec": {
   "display_name": "Python 3 (ipykernel)",
   "language": "python",
   "name": "python3"
  },
  "language_info": {
   "codemirror_mode": {
    "name": "ipython",
    "version": 3
   },
   "file_extension": ".py",
   "mimetype": "text/x-python",
   "name": "python",
   "nbconvert_exporter": "python",
   "pygments_lexer": "ipython3",
   "version": "3.11.5"
  }
 },
 "nbformat": 4,
 "nbformat_minor": 5
}
