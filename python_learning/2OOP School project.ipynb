{
 "cells": [
  {
   "cell_type": "markdown",
   "id": "1f23aa55",
   "metadata": {},
   "source": [
    "The Department of Education wants the catalog to hold quick reference material for each school in the city."
   ]
  },
  {
   "cell_type": "markdown",
   "id": "92f7c3d8",
   "metadata": {},
   "source": [
    "## School\n",
    "- Properties: name (string), level (one of three strings: 'primary', 'middle', or 'high'), and numberOfStudents (integer)\n",
    "\n",
    "- Getters: all properties have getters\n",
    "\n",
    "- etters: the numberOfStudents property has a setter\n",
    "\n",
    "- Methods: A __repr__ method that displays information about the school."
   ]
  },
  {
   "cell_type": "markdown",
   "id": "92b3fd69",
   "metadata": {},
   "source": [
    "## Primary\n",
    "- Includes everything in the School class, plus one additional property\n",
    "\n",
    "- Properties: pickupPolicy (string, like \"Pickup after 3pm\")"
   ]
  },
  {
   "cell_type": "markdown",
   "id": "f99d8438",
   "metadata": {},
   "source": [
    "## Middle\n",
    "- Does not include any additional properties or methods"
   ]
  },
  {
   "cell_type": "markdown",
   "id": "8c5a9618",
   "metadata": {},
   "source": [
    "## High\n",
    "- Includes everything in the School class, plus one additional property\n",
    "- Properties: sportsTeams (list of strings, like ['basketball', 'tennis'])"
   ]
  },
  {
   "cell_type": "markdown",
   "id": "d054d9ef",
   "metadata": {},
   "source": [
    "1. Create the School Class. Let’s start by making a parent class for Primary, Middle, and High classes.Create an empty class named School."
   ]
  },
  {
   "cell_type": "code",
   "execution_count": 18,
   "id": "aeae8dd4",
   "metadata": {},
   "outputs": [],
   "source": [
    "class School():\n",
    "    pass"
   ]
  },
  {
   "cell_type": "markdown",
   "id": "44fef0f2",
   "metadata": {},
   "source": [
    "2. Inside the School class, create a constructor that accepts three parameters in addition to self. The names of these parameters should match the properties listed in the narrative above."
   ]
  },
  {
   "cell_type": "code",
   "execution_count": 19,
   "id": "a943027a",
   "metadata": {},
   "outputs": [],
   "source": [
    "class School:\n",
    "    def __init__(self, name, level, numberOfStudents):\n",
    "        self.name = name\n",
    "        self.level = level\n",
    "        self.numberOfStudents = numberOfStudents"
   ]
  },
  {
   "cell_type": "markdown",
   "id": "03d1461d",
   "metadata": {},
   "source": [
    "3. Create getters for the name, level, and numberOfStudents properties. Each getter should return the value saved to the property."
   ]
  },
  {
   "cell_type": "code",
   "execution_count": 20,
   "id": "51103318",
   "metadata": {},
   "outputs": [],
   "source": [
    "class School:\n",
    "    def __init__(self, name, level, numberOfStudents):\n",
    "        self.name = name\n",
    "        self.level = level\n",
    "        self.numberOfStudents = numberOfStudents\n",
    "        \n",
    "    def get_Name(self):\n",
    "        return self.name\n",
    "    \n",
    "    def get_Level(self):\n",
    "        return self.level\n",
    "    \n",
    "    def get_NumberOfStrudents(self):\n",
    "        return self.numberOfStudents"
   ]
  },
  {
   "cell_type": "markdown",
   "id": "d0c591a1",
   "metadata": {},
   "source": [
    "4. Create a setter for numberOfStudents. This method should take one parameter (in addition to self) and set self.numberOfStudents equal to the value passed into the method."
   ]
  },
  {
   "cell_type": "code",
   "execution_count": 21,
   "id": "ac1a9e2e",
   "metadata": {},
   "outputs": [],
   "source": [
    "class School:\n",
    "    def __init__(self, name, level, numberOfStudents):\n",
    "        self.name = name\n",
    "        self.level = level\n",
    "        self.numberOfStudents = numberOfStudents\n",
    "        \n",
    "    def get_Name(self):\n",
    "        return self.name\n",
    "    \n",
    "    def get_Level(self):\n",
    "        return self.level\n",
    "    \n",
    "    def get_NumberOfStudents(self):\n",
    "        return self.numberOfStudents\n",
    "    \n",
    "    def set_NumberOfStudents(self, new_number):\n",
    "        self.NumberOfStudets = new_NumberOfStudents"
   ]
  },
  {
   "cell_type": "markdown",
   "id": "35a522c8",
   "metadata": {},
   "source": [
    "5. Create a __repr__() method so when a School is printed, it displays relevant information about the object. You can choose what you want displayed, but we printed:\n",
    "\n",
    "A {level} school named {name} with {numberOfStudents} students"
   ]
  },
  {
   "cell_type": "code",
   "execution_count": 55,
   "id": "4e06bcf1",
   "metadata": {},
   "outputs": [],
   "source": [
    "class School:\n",
    "    def __init__(self, name, level, numberOfStudents):\n",
    "        self.name = name\n",
    "        self.level = level\n",
    "        self.numberOfStudents = numberOfStudents\n",
    "        \n",
    "    def get_Name(self):\n",
    "        return self.name\n",
    "    \n",
    "    def get_Level(self):\n",
    "        return self.level\n",
    "    \n",
    "    def get_NumberOfStudents(self):\n",
    "        return self.numberOfStudents\n",
    "    \n",
    "    def set_NumberOfStudents(self, new_number):\n",
    "        self.numberOfStudents = new_number\n",
    "    \n",
    "    def __repr__(self): \n",
    "        return f\"A {self.level} school named {self.name} with {self.numberOfStudents} students\"\n",
    "        "
   ]
  },
  {
   "cell_type": "markdown",
   "id": "c3813e3e",
   "metadata": {},
   "source": [
    "6. At this point, it’s probably a good idea to test your code if you haven’t already. Try creating a School object, use the getter and setter methods you created, and print that object"
   ]
  },
  {
   "cell_type": "code",
   "execution_count": 56,
   "id": "608050ad",
   "metadata": {},
   "outputs": [
    {
     "name": "stdout",
     "output_type": "stream",
     "text": [
      "A high school named Kozminski with 200 students\n",
      "Kozminski\n",
      "high\n",
      "2000\n"
     ]
    }
   ],
   "source": [
    "a = School(\"Kozminski\", \"high\", 200)\n",
    "print(a)\n",
    "print(a.get_Name())\n",
    "print(a.get_Level())\n",
    "a.set_NumberOfStudents(2000)\n",
    "print(a.get_NumberOfStudents())"
   ]
  },
  {
   "cell_type": "markdown",
   "id": "31954edd",
   "metadata": {},
   "source": [
    "7. Next, we’ll build a PrimarySchool class that inherits from School, PrimarySchool class only has one additional property, pickupPolicy.\n"
   ]
  },
  {
   "cell_type": "code",
   "execution_count": 78,
   "id": "65cb7106",
   "metadata": {},
   "outputs": [],
   "source": [
    "class PrimarySchool(School):\n",
    "    def __init__(self, name, numberOfStudents, pickup):\n",
    "        super().__init__(name, \"Primary\", numberOfStudents)\n",
    "        self.pickup = pickup\n",
    "    \n",
    "    def get_PickupPolicy(self):\n",
    "        return self.pickup\n",
    "    \n",
    "    def __repr__(self):\n",
    "        primaryRepr = super().__repr__()\n",
    "        return primaryRepr + f\" The pickup policy is {self.pickup}\"\n",
    "    "
   ]
  },
  {
   "cell_type": "markdown",
   "id": "b0919927",
   "metadata": {},
   "source": [
    "8. Create a PrimarySchool object and verify your new constructor, getter method, and __repr__() method work as expected."
   ]
  },
  {
   "cell_type": "code",
   "execution_count": 74,
   "id": "95a1a464",
   "metadata": {},
   "outputs": [
    {
     "name": "stdout",
     "output_type": "stream",
     "text": [
      "Pickup Allowed\n",
      "A primary school named Sp9 with 400 students The pickup policy is Pickup Allowed\n"
     ]
    }
   ],
   "source": [
    "b = PrimarySchool(\"Sp9\", 400, \"Pickup Allowed\")\n",
    "print(b.get_PickupPolicy())\n",
    "print(b)"
   ]
  },
  {
   "cell_type": "markdown",
   "id": "d0c9e54e",
   "metadata": {},
   "source": [
    "9. In this task, you will create a HighSchool class that inherits from the School class. In addition to the properties, getters, and methods in School, the HighSchool includes the following:\n",
    "\n",
    "Properties: sportsTeams (list of strings)\n",
    "Getters: A getter for the sportsTeams array. The getter should return the list of the sports teams.\n",
    "Override the __repr__() method to display information about sportsTeams."
   ]
  },
  {
   "cell_type": "code",
   "execution_count": 104,
   "id": "b83eadc3",
   "metadata": {},
   "outputs": [],
   "source": [
    "class HighSchool(School):\n",
    "    def __init__(self, name, numberOfStudents, sportsTeams):\n",
    "        super().__init__(name, \"High\", numberOfStudents)\n",
    "        self.sportsTeams = sportsTeams\n",
    "        \n",
    "    def get_sportsTeams(self):\n",
    "            return ('basketball', 'tennis')\n",
    "        \n",
    "    def __repr__(self):\n",
    "        HighRepr = super().__repr__()\n",
    "        return HighRepr + f\" The sports teams are {self.sportsTeams}\"\n",
    "        "
   ]
  },
  {
   "cell_type": "code",
   "execution_count": 105,
   "id": "6b212414",
   "metadata": {},
   "outputs": [
    {
     "name": "stdout",
     "output_type": "stream",
     "text": [
      "A High school named 1LO with 1100 students The sports teams are ['soccer', 'swimming']\n"
     ]
    }
   ],
   "source": [
    "c = HighSchool(\"1LO\", 1100, [\"soccer\", \"swimming\"])\n",
    "print(c)"
   ]
  }
 ],
 "metadata": {
  "kernelspec": {
   "display_name": "Python 3 (ipykernel)",
   "language": "python",
   "name": "python3"
  },
  "language_info": {
   "codemirror_mode": {
    "name": "ipython",
    "version": 3
   },
   "file_extension": ".py",
   "mimetype": "text/x-python",
   "name": "python",
   "nbconvert_exporter": "python",
   "pygments_lexer": "ipython3",
   "version": "3.11.5"
  }
 },
 "nbformat": 4,
 "nbformat_minor": 5
}
